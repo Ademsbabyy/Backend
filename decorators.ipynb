{
 "cells": [
  {
   "cell_type": "code",
   "execution_count": 2,
   "id": "05f29768",
   "metadata": {},
   "outputs": [
    {
     "name": "stdout",
     "output_type": "stream",
     "text": [
      "Welcome to our shop!\n",
      "Showkeeper says: Welcome to our shop!\n"
     ]
    }
   ],
   "source": [
    "def greet_customer():\n",
    "    return \"Welcome to our shop!\"\n",
    "\n",
    "# You can assign functions to variables\n",
    "\n",
    "my_greeting = greet_customer\n",
    "print(my_greeting()) # Welcome to our shop!\n",
    "\n",
    "# You can pass functions as arguments\n",
    "\n",
    "def use_greeting(greeting_func):\n",
    "    return f\"Showkeeper says: {greeting_func()}\"\n",
    "\n",
    "print(use_greeting(greet_customer))"
   ]
  },
  {
   "cell_type": "code",
   "execution_count": 3,
   "id": "a26546ae",
   "metadata": {},
   "outputs": [],
   "source": [
    "def add_nigerian_politeness(original_function):\n",
    "    \"\"\"This decorator adds Nigerian politeness to any greeting\"\"\"\n",
    "\n",
    "    def wrapper():\n",
    "        result = original_function()\n",
    "        return f\"Good morning ooo! {result} How is family ? \"\n",
    "    return wrapper\n",
    "# Original simple meeting \n",
    "def basic_greeting():\n",
    "    return \"Hello\""
   ]
  },
  {
   "cell_type": "code",
   "execution_count": 4,
   "id": "94873375",
   "metadata": {},
   "outputs": [
    {
     "name": "stdout",
     "output_type": "stream",
     "text": [
      "Good morning ooo! Hello How is family ? \n"
     ]
    }
   ],
   "source": [
    "# Apply the decorator manually\n",
    "polite_greeting = add_nigerian_politeness(basic_greeting)\n",
    "print(polite_greeting())"
   ]
  },
  {
   "cell_type": "code",
   "execution_count": 5,
   "id": "bd2a4f89",
   "metadata": {},
   "outputs": [],
   "source": [
    "def add_nigerian_time_greeting(time_of_day):\n",
    "    \"\"\"Decorator that adds appropriate Nigerian greeting based on time\"\"\"\n",
    "\n",
    "    def decorator(original_function):\n",
    "        def wrapper():\n",
    "            if time_of_day == \"morning\" :\n",
    "                greeting = \"Good morning ooo!\"\n",
    "\n",
    "            elif time_of_day == \"afternoon!\":\n",
    "                greeting = \"Good afternoon!\"\n",
    "\n",
    "            elif time_of_day == \"evening\":\n",
    "                greeting = \"Good evening ooo!\"\n",
    "\n",
    "            else:\n",
    "                greeting = \"How far!\"\n",
    "\n",
    "            result = original_function()\n",
    "            return f\"{greeting} {result}\"\n",
    "        \n",
    "        return wrapper\n",
    "    return decorator"
   ]
  },
  {
   "cell_type": "code",
   "execution_count": 6,
   "id": "d0106ff5",
   "metadata": {},
   "outputs": [],
   "source": [
    "# Using the decorator with different times\n",
    "\n",
    "@add_nigerian_time_greeting(\"morning\")\n",
    "def market_greeting():\n",
    "    return \"Welcome to our shop, How can we help you today ? \""
   ]
  },
  {
   "cell_type": "code",
   "execution_count": 8,
   "id": "cd64fae0",
   "metadata": {},
   "outputs": [],
   "source": [
    "@add_nigerian_time_greeting(\"evening\")\n",
    "def restaurant_greeting():\n",
    "    return \"Welcome to our restaurant. What would you like to eat\""
   ]
  },
  {
   "cell_type": "code",
   "execution_count": 9,
   "id": "20034559",
   "metadata": {},
   "outputs": [
    {
     "name": "stdout",
     "output_type": "stream",
     "text": [
      "Good morning ooo! Welcome to our shop, How can we help you today ? \n",
      "Good evening ooo! Welcome to our restaurant. What would you like to eat\n"
     ]
    }
   ],
   "source": [
    "print(market_greeting())\n",
    "print(restaurant_greeting())"
   ]
  },
  {
   "cell_type": "code",
   "execution_count": 10,
   "id": "6c747c2e",
   "metadata": {},
   "outputs": [],
   "source": [
    "def naira_formatter(currency_symbol=\"₦\"):\n",
    "    \"\"\"Decorator to format prices in Nigerian Naira\"\"\"\n",
    "\n",
    "    def decorator(price_function):\n",
    "        def wrapper(*args, **kwargs):\n",
    "            price = price_function(*args, **kwargs)\n",
    "            return f\"{currency_symbol}{price:,}\"\n",
    "        return wrapper\n",
    "    return decorator"
   ]
  },
  {
   "cell_type": "code",
   "execution_count": 11,
   "id": "640c8de5",
   "metadata": {},
   "outputs": [],
   "source": [
    "@naira_formatter(\"₦\")\n",
    "def rice_price():\n",
    "    return 2500"
   ]
  },
  {
   "cell_type": "code",
   "execution_count": 12,
   "id": "d7a9a386",
   "metadata": {},
   "outputs": [],
   "source": [
    "@naira_formatter(\"₦\")\n",
    "def calculate_transport_fare(distance_km):\n",
    "    base_fare = 200\n",
    "    per_km = 50\n",
    "    return base_fare + (distance_km * per_km)"
   ]
  },
  {
   "cell_type": "code",
   "execution_count": 13,
   "id": "9f03e3a5",
   "metadata": {},
   "outputs": [
    {
     "name": "stdout",
     "output_type": "stream",
     "text": [
      "₦2,500\n",
      "₦450\n"
     ]
    }
   ],
   "source": [
    "print(rice_price())\n",
    "print(calculate_transport_fare(5))"
   ]
  }
 ],
 "metadata": {
  "kernelspec": {
   "display_name": "Python 3",
   "language": "python",
   "name": "python3"
  },
  "language_info": {
   "codemirror_mode": {
    "name": "ipython",
    "version": 3
   },
   "file_extension": ".py",
   "mimetype": "text/x-python",
   "name": "python",
   "nbconvert_exporter": "python",
   "pygments_lexer": "ipython3",
   "version": "3.13.7"
  }
 },
 "nbformat": 4,
 "nbformat_minor": 5
}
